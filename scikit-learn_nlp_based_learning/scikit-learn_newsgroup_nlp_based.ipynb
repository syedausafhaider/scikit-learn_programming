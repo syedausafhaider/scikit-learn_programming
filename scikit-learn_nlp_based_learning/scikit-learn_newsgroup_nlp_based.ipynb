{
 "cells": [
  {
   "cell_type": "code",
   "execution_count": 1,
   "id": "41c330b0-b6a0-4faf-9a59-c6202433fca2",
   "metadata": {},
   "outputs": [],
   "source": [
    "# Import all scikit-learn modules\n",
    "from sklearn import datasets\n",
    "from sklearn.model_selection import train_test_split, cross_val_score, GridSearchCV, learning_curve, validation_curve, TimeSeriesSplit\n",
    "from sklearn.preprocessing import StandardScaler, PolynomialFeatures, LabelEncoder\n",
    "from sklearn.linear_model import LogisticRegression\n",
    "from sklearn.ensemble import RandomForestClassifier, VotingClassifier, BaggingClassifier\n",
    "from sklearn.svm import SVC\n",
    "from sklearn.cluster import KMeans\n",
    "from sklearn.decomposition import TruncatedSVD\n",
    "from sklearn.manifold import TSNE\n",
    "from sklearn.feature_selection import SelectKBest, chi2\n",
    "from sklearn.pipeline import Pipeline\n",
    "from sklearn.impute import SimpleImputer\n",
    "from sklearn.feature_extraction.text import TfidfVectorizer\n",
    "from sklearn.gaussian_process import GaussianProcessRegressor\n",
    "from sklearn.calibration import CalibratedClassifierCV\n",
    "from sklearn.metrics import accuracy_score, confusion_matrix, classification_report, roc_curve, auc, precision_recall_curve\n",
    "from sklearn.ensemble import IsolationForest\n",
    "from sklearn.multioutput import MultiOutputClassifier\n",
    "from sklearn.inspection import PartialDependenceDisplay\n",
    "from sklearn.neural_network import MLPClassifier\n",
    "from sklearn.base import BaseEstimator, ClassifierMixin\n",
    "import numpy as np\n",
    "import matplotlib.pyplot as plt\n",
    "import joblib"
   ]
  },
  {
   "cell_type": "code",
   "execution_count": 2,
   "id": "f59dd23f-22fb-4586-8fe4-443bdd3067cd",
   "metadata": {},
   "outputs": [
    {
     "name": "stdout",
     "output_type": "stream",
     "text": [
      "=== Scikit-Learn NLP Demo with All Functionalities ===\n",
      "This program uses the 20 Newsgroups dataset to showcase all scikit-learn features.\n",
      "\n"
     ]
    }
   ],
   "source": [
    "# Section 1: Introduction\n",
    "print(\"=== Scikit-Learn NLP Demo with All Functionalities ===\")\n",
    "print(\"This program uses the 20 Newsgroups dataset to showcase all scikit-learn features.\\n\")"
   ]
  },
  {
   "cell_type": "code",
   "execution_count": 3,
   "id": "2d804bdd-6630-4629-9789-c4dde33be232",
   "metadata": {},
   "outputs": [
    {
     "name": "stdout",
     "output_type": "stream",
     "text": [
      "Dataset size: 3759\n",
      "Target names: ['alt.atheism', 'comp.graphics', 'sci.med', 'soc.religion.christian'] \n",
      "\n"
     ]
    }
   ],
   "source": [
    "# Section 2: Loading Data\n",
    "# Here I load a subset of the 20 Newsgroups dataset\n",
    "categories = ['alt.atheism', 'soc.religion.christian', 'comp.graphics', 'sci.med']\n",
    "newsgroups = datasets.fetch_20newsgroups(subset='all', categories=categories, remove=('headers', 'footers', 'quotes'))\n",
    "X = newsgroups.data\n",
    "y = newsgroups.target\n",
    "print(\"Dataset size:\", len(X))\n",
    "print(\"Target names:\", newsgroups.target_names, \"\\n\")"
   ]
  },
  {
   "cell_type": "code",
   "execution_count": 8,
   "id": "c3c6a992-6c8c-4873-9a70-4dfe5e1b96e4",
   "metadata": {},
   "outputs": [],
   "source": [
    "# Section 3: Simulate Additional Features\n",
    "# Here I simulate a numerical feature (e.g., document length) and a second target (e.g., sentiment)\n",
    "doc_lengths = [len(doc.split()) for doc in X]\n",
    "y_sentiment = np.random.randint(0, 2, size=len(y))  # Fake binary sentiment\n",
    "X_num = np.array(doc_lengths, dtype=float).reshape(-1, 1)  # Use float to allow NaN"
   ]
  },
  {
   "cell_type": "code",
   "execution_count": 9,
   "id": "af990909-5d96-44a4-90ad-f4733e648b1e",
   "metadata": {},
   "outputs": [
    {
     "name": "stdout",
     "output_type": "stream",
     "text": [
      "=== Imputation with SimpleImputer ===\n",
      "Imputed doc lengths sample: [115.  96.   0.  55. 199.] \n",
      "\n"
     ]
    }
   ],
   "source": [
    "# Section 4: Imputation (Simulated Missing Values)\n",
    "print(\"=== Imputation with SimpleImputer ===\")\n",
    "# Here I introduce missing values to the numerical feature\n",
    "X_num_with_missing = X_num.copy()\n",
    "X_num_with_missing[np.random.choice(len(X), 10)] = np.nan\n",
    "imputer = SimpleImputer(strategy='mean')\n",
    "X_num_imputed = imputer.fit_transform(X_num_with_missing)\n",
    "print(\"Imputed doc lengths sample:\", X_num_imputed[:5].flatten(), \"\\n\")"
   ]
  },
  {
   "cell_type": "code",
   "execution_count": 10,
   "id": "ba31e1fe-6f5c-4810-a9c2-a8aaa2aac52b",
   "metadata": {},
   "outputs": [],
   "source": [
    "# Section 5: Splitting Data\n",
    "# Here I split both text and numerical data\n",
    "X_train, X_test, y_train, y_test, y_sent_train, y_sent_test, X_num_train, X_num_test = train_test_split(\n",
    "    X, y, y_sentiment, X_num_imputed, test_size=0.3, random_state=42\n",
    ")"
   ]
  },
  {
   "cell_type": "code",
   "execution_count": 11,
   "id": "2aff24ca-ec5d-4c11-86c1-23fc218dd50a",
   "metadata": {},
   "outputs": [
    {
     "name": "stdout",
     "output_type": "stream",
     "text": [
      "=== Text Preprocessing with TfidfVectorizer ===\n",
      "TF-IDF shape: (2631, 5000) \n",
      "\n"
     ]
    }
   ],
   "source": [
    "# Section 6: Text Preprocessing and Vectorization\n",
    "print(\"=== Text Preprocessing with TfidfVectorizer ===\")\n",
    "# Here I vectorize the text data\n",
    "vectorizer = TfidfVectorizer(max_features=5000, stop_words='english')\n",
    "X_train_tfidf = vectorizer.fit_transform(X_train)\n",
    "X_test_tfidf = vectorizer.transform(X_test)\n",
    "print(\"TF-IDF shape:\", X_train_tfidf.shape, \"\\n\")"
   ]
  },
  {
   "cell_type": "code",
   "execution_count": 12,
   "id": "7e6ba631-e800-4036-a987-c454763c3db8",
   "metadata": {},
   "outputs": [
    {
     "name": "stdout",
     "output_type": "stream",
     "text": [
      "=== Numerical Preprocessing ===\n"
     ]
    }
   ],
   "source": [
    "# Section 7: Numerical Preprocessing\n",
    "print(\"=== Numerical Preprocessing ===\")\n",
    "# Here I scale the numerical feature\n",
    "scaler = StandardScaler()\n",
    "X_num_train_scaled = scaler.fit_transform(X_num_train)\n",
    "X_num_test_scaled = scaler.transform(X_num_test)"
   ]
  },
  {
   "cell_type": "code",
   "execution_count": 13,
   "id": "c1e7d172-2486-408e-b899-320225a664ac",
   "metadata": {},
   "outputs": [
    {
     "name": "stdout",
     "output_type": "stream",
     "text": [
      "Polynomial numerical shape: (2631, 2) \n",
      "\n"
     ]
    }
   ],
   "source": [
    "# Here I add polynomial features to the numerical data\n",
    "poly = PolynomialFeatures(degree=2, include_bias=False)\n",
    "X_num_train_poly = poly.fit_transform(X_num_train_scaled)\n",
    "X_num_test_poly = poly.transform(X_num_test_scaled)\n",
    "print(\"Polynomial numerical shape:\", X_num_train_poly.shape, \"\\n\")"
   ]
  },
  {
   "cell_type": "code",
   "execution_count": 14,
   "id": "b9ed4a32-4d7f-4a92-aecf-a0709d1e4ca1",
   "metadata": {},
   "outputs": [
    {
     "name": "stdout",
     "output_type": "stream",
     "text": [
      "Combined features shape: (2631, 52) \n",
      "\n"
     ]
    }
   ],
   "source": [
    "# Section 8: Combine Features\n",
    "# Here I combine TF-IDF and numerical features (after SVD for efficiency)\n",
    "svd = TruncatedSVD(n_components=50, random_state=42)\n",
    "X_train_svd = svd.fit_transform(X_train_tfidf)\n",
    "X_test_svd = svd.transform(X_test_tfidf)\n",
    "X_train_combined = np.hstack((X_train_svd, X_num_train_poly))\n",
    "X_test_combined = np.hstack((X_test_svd, X_num_test_poly))\n",
    "print(\"Combined features shape:\", X_train_combined.shape, \"\\n\")"
   ]
  },
  {
   "cell_type": "code",
   "execution_count": 15,
   "id": "03fedc5a-1f58-469d-9a50-a6a4b79f65de",
   "metadata": {},
   "outputs": [
    {
     "name": "stdout",
     "output_type": "stream",
     "text": [
      "=== Feature Selection with SelectKBest ===\n"
     ]
    }
   ],
   "source": [
    "# Section 9: Feature Selection\n",
    "print(\"=== Feature Selection with SelectKBest ===\")\n",
    "# Here I select top features (limited to TF-IDF due to chi2 requirement)\n",
    "selector = SelectKBest(chi2, k=1000)\n",
    "X_train_selected = selector.fit_transform(X_train_tfidf, y_train)\n",
    "X_test_selected = selector.transform(X_test_tfidf)"
   ]
  },
  {
   "cell_type": "code",
   "execution_count": 16,
   "id": "d6d3b8b4-2f9e-4a61-893c-60dc8a992c5b",
   "metadata": {},
   "outputs": [
    {
     "name": "stdout",
     "output_type": "stream",
     "text": [
      "=== TSNE Visualization ===\n"
     ]
    },
    {
     "name": "stderr",
     "output_type": "stream",
     "text": [
      "C:\\Users\\ASUS\\miniconda3\\envs\\myenv\\lib\\site-packages\\joblib\\externals\\loky\\backend\\context.py:136: UserWarning: Could not find the number of physical cores for the following reason:\n",
      "[WinError 2] The system cannot find the file specified\n",
      "Returning the number of logical cores instead. You can silence this warning by setting LOKY_MAX_CPU_COUNT to the number of cores you want to use.\n",
      "  warnings.warn(\n",
      "  File \"C:\\Users\\ASUS\\miniconda3\\envs\\myenv\\lib\\site-packages\\joblib\\externals\\loky\\backend\\context.py\", line 257, in _count_physical_cores\n",
      "    cpu_info = subprocess.run(\n",
      "  File \"C:\\Users\\ASUS\\miniconda3\\envs\\myenv\\lib\\subprocess.py\", line 503, in run\n",
      "    with Popen(*popenargs, **kwargs) as process:\n",
      "  File \"C:\\Users\\ASUS\\miniconda3\\envs\\myenv\\lib\\subprocess.py\", line 971, in __init__\n",
      "    self._execute_child(args, executable, preexec_fn, close_fds,\n",
      "  File \"C:\\Users\\ASUS\\miniconda3\\envs\\myenv\\lib\\subprocess.py\", line 1456, in _execute_child\n",
      "    hp, ht, pid, tid = _winapi.CreateProcess(executable, args,\n"
     ]
    },
    {
     "data": {
      "image/png": "[encoded data removed]",
      "text/plain": [
       "<Figure size 640x480 with 1 Axes>"
      ]
     },
     "metadata": {},
     "output_type": "display_data"
    }
   ],
   "source": [
    "# Section 10: TSNE Visualization\n",
    "print(\"=== TSNE Visualization ===\")\n",
    "# Here I visualize a subset with TSNE\n",
    "tsne = TSNE(n_components=2, random_state=42)\n",
    "X_train_tsne = tsne.fit_transform(X_train_combined[:200])\n",
    "plt.scatter(X_train_tsne[:, 0], X_train_tsne[:, 1], c=y_train[:200], cmap='viridis')\n",
    "plt.title(\"TSNE Visualization\")\n",
    "plt.show()"
   ]
  },
  {
   "cell_type": "code",
   "execution_count": 17,
   "id": "61aef68f-d937-418a-b161-727e50e8ae00",
   "metadata": {},
   "outputs": [
    {
     "data": {
      "text/html": [
       "<style>#sk-container-id-1 {\n",
       "  /* Definition of color scheme common for light and dark mode */\n",
       "  --sklearn-color-text: #000;\n",
       "  --sklearn-color-text-muted: #666;\n",
       "  --sklearn-color-line: gray;\n",
       "  /* Definition of color scheme for unfitted estimators */\n",
       "  --sklearn-color-unfitted-level-0: #fff5e6;\n",
       "  --sklearn-color-unfitted-level-1: #f6e4d2;\n",
       "  --sklearn-color-unfitted-level-2: #ffe0b3;\n",
       "  --sklearn-color-unfitted-level-3: chocolate;\n",
       "  /* Definition of color scheme for fitted estimators */\n",
       "  --sklearn-color-fitted-level-0: #f0f8ff;\n",
       "  --sklearn-color-fitted-level-1: #d4ebff;\n",
       "  --sklearn-color-fitted-level-2: #b3dbfd;\n",
       "  --sklearn-color-fitted-level-3: cornflowerblue;\n",
       "\n",
       "  /* Specific color for light theme */\n",
       "  --sklearn-color-text-on-default-background: var(--sg-text-color, var(--theme-code-foreground, var(--jp-content-font-color1, black)));\n",
       "  --sklearn-color-background: var(--sg-background-color, var(--theme-background, var(--jp-layout-color0, white)));\n",
       "  --sklearn-color-border-box: var(--sg-text-color, var(--theme-code-foreground, var(--jp-content-font-color1, black)));\n",
       "  --sklearn-color-icon: #696969;\n",
       "\n",
       "  @media (prefers-color-scheme: dark) {\n",
       "    /* Redefinition of color scheme for dark theme */\n",
       "    --sklearn-color-text-on-default-background: var(--sg-text-color, var(--theme-code-foreground, var(--jp-content-font-color1, white)));\n",
       "    --sklearn-color-background: var(--sg-background-color, var(--theme-background, var(--jp-layout-color0, #111)));\n",
       "    --sklearn-color-border-box: var(--sg-text-color, var(--theme-code-foreground, var(--jp-content-font-color1, white)));\n",
       "    --sklearn-color-icon: #878787;\n",
       "  }\n",
       "}\n",
       "\n",
       "#sk-container-id-1 {\n",
       "  color: var(--sklearn-color-text);\n",
       "}\n",
       "\n",
       "#sk-container-id-1 pre {\n",
       "  padding: 0;\n",
       "}\n",
       "\n",
       "#sk-container-id-1 input.sk-hidden--visually {\n",
       "  border: 0;\n",
       "  clip: rect(1px 1px 1px 1px);\n",
       "  clip: rect(1px, 1px, 1px, 1px);\n",
       "  height: 1px;\n",
       "  margin: -1px;\n",
       "  overflow: hidden;\n",
       "  padding: 0;\n",
       "  position: absolute;\n",
       "  width: 1px;\n",
       "}\n",
       "\n",
       "#sk-container-id-1 div.sk-dashed-wrapped {\n",
       "  border: 1px dashed var(--sklearn-color-line);\n",
       "  margin: 0 0.4em 0.5em 0.4em;\n",
       "  box-sizing: border-box;\n",
       "  padding-bottom: 0.4em;\n",
       "  background-color: var(--sklearn-color-background);\n",
       "}\n",
       "\n",
       "#sk-container-id-1 div.sk-container {\n",
       "  /* jupyter's `normalize.less` sets `[hidden] { display: none; }`\n",
       "     but bootstrap.min.css set `[hidden] { display: none !important; }`\n",
       "     so we also need the `!important` here to be able to override the\n",
       "     default hidden behavior on the sphinx rendered scikit-learn.org.\n",
       "     See: https://github.com/scikit-learn/scikit-learn/issues/21755 */\n",
       "  display: inline-block !important;\n",
       "  position: relative;\n",
       "}\n",
       "\n",
       "#sk-container-id-1 div.sk-text-repr-fallback {\n",
       "  display: none;\n",
       "}\n",
       "\n",
       "div.sk-parallel-item,\n",
       "div.sk-serial,\n",
       "div.sk-item {\n",
       "  /* draw centered vertical line to link estimators */\n",
       "  background-image: linear-gradient(var(--sklearn-color-text-on-default-background), var(--sklearn-color-text-on-default-background));\n",
       "  background-size: 2px 100%;\n",
       "  background-repeat: no-repeat;\n",
       "  background-position: center center;\n",
       "}\n",
       "\n",
       "/* Parallel-specific style estimator block */\n",
       "\n",
       "#sk-container-id-1 div.sk-parallel-item::after {\n",
       "  content: \"\";\n",
       "  width: 100%;\n",
       "  border-bottom: 2px solid var(--sklearn-color-text-on-default-background);\n",
       "  flex-grow: 1;\n",
       "}\n",
       "\n",
       "#sk-container-id-1 div.sk-parallel {\n",
       "  display: flex;\n",
       "  align-items: stretch;\n",
       "  justify-content: center;\n",
       "  background-color: var(--sklearn-color-background);\n",
       "  position: relative;\n",
       "}\n",
       "\n",
       "#sk-container-id-1 div.sk-parallel-item {\n",
       "  display: flex;\n",
       "  flex-direction: column;\n",
       "}\n",
       "\n",
       "#sk-container-id-1 div.sk-parallel-item:first-child::after {\n",
       "  align-self: flex-end;\n",
       "  width: 50%;\n",
       "}\n",
       "\n",
       "#sk-container-id-1 div.sk-parallel-item:last-child::after {\n",
       "  align-self: flex-start;\n",
       "  width: 50%;\n",
       "}\n",
       "\n",
       "#sk-container-id-1 div.sk-parallel-item:only-child::after {\n",
       "  width: 0;\n",
       "}\n",
       "\n",
       "/* Serial-specific style estimator block */\n",
       "\n",
       "#sk-container-id-1 div.sk-serial {\n",
       "  display: flex;\n",
       "  flex-direction: column;\n",
       "  align-items: center;\n",
       "  background-color: var(--sklearn-color-background);\n",
       "  padding-right: 1em;\n",
       "  padding-left: 1em;\n",
       "}\n",
       "\n",
       "\n",
       "/* Toggleable style: style used for estimator/Pipeline/ColumnTransformer box that is\n",
       "clickable and can be expanded/collapsed.\n",
       "- Pipeline and ColumnTransformer use this feature and define the default style\n",
       "- Estimators will overwrite some part of the style using the `sk-estimator` class\n",
       "*/\n",
       "\n",
       "/* Pipeline and ColumnTransformer style (default) */\n",
       "\n",
       "#sk-container-id-1 div.sk-toggleable {\n",
       "  /* Default theme specific background. It is overwritten whether we have a\n",
       "  specific estimator or a Pipeline/ColumnTransformer */\n",
       "  background-color: var(--sklearn-color-background);\n",
       "}\n",
       "\n",
       "/* Toggleable label */\n",
       "#sk-container-id-1 label.sk-toggleable__label {\n",
       "  cursor: pointer;\n",
       "  display: flex;\n",
       "  width: 100%;\n",
       "  margin-bottom: 0;\n",
       "  padding: 0.5em;\n",
       "  box-sizing: border-box;\n",
       "  text-align: center;\n",
       "  align-items: start;\n",
       "  justify-content: space-between;\n",
       "  gap: 0.5em;\n",
       "}\n",
       "\n",
       "#sk-container-id-1 label.sk-toggleable__label .caption {\n",
       "  font-size: 0.6rem;\n",
       "  font-weight: lighter;\n",
       "  color: var(--sklearn-color-text-muted);\n",
       "}\n",
       "\n",
       "#sk-container-id-1 label.sk-toggleable__label-arrow:before {\n",
       "  /* Arrow on the left of the label */\n",
       "  content: \"▸\";\n",
       "  float: left;\n",
       "  margin-right: 0.25em;\n",
       "  color: var(--sklearn-color-icon);\n",
       "}\n",
       "\n",
       "#sk-container-id-1 label.sk-toggleable__label-arrow:hover:before {\n",
       "  color: var(--sklearn-color-text);\n",
       "}\n",
       "\n",
       "/* Toggleable content - dropdown */\n",
       "\n",
       "#sk-container-id-1 div.sk-toggleable__content {\n",
       "  max-height: 0;\n",
       "  max-width: 0;\n",
       "  overflow: hidden;\n",
       "  text-align: left;\n",
       "  /* unfitted */\n",
       "  background-color: var(--sklearn-color-unfitted-level-0);\n",
       "}\n",
       "\n",
       "#sk-container-id-1 div.sk-toggleable__content.fitted {\n",
       "  /* fitted */\n",
       "  background-color: var(--sklearn-color-fitted-level-0);\n",
       "}\n",
       "\n",
       "#sk-container-id-1 div.sk-toggleable__content pre {\n",
       "  margin: 0.2em;\n",
       "  border-radius: 0.25em;\n",
       "  color: var(--sklearn-color-text);\n",
       "  /* unfitted */\n",
       "  background-color: var(--sklearn-color-unfitted-level-0);\n",
       "}\n",
       "\n",
       "#sk-container-id-1 div.sk-toggleable__content.fitted pre {\n",
       "  /* unfitted */\n",
       "  background-color: var(--sklearn-color-fitted-level-0);\n",
       "}\n",
       "\n",
       "#sk-container-id-1 input.sk-toggleable__control:checked~div.sk-toggleable__content {\n",
       "  /* Expand drop-down */\n",
       "  max-height: 200px;\n",
       "  max-width: 100%;\n",
       "  overflow: auto;\n",
       "}\n",
       "\n",
       "#sk-container-id-1 input.sk-toggleable__control:checked~label.sk-toggleable__label-arrow:before {\n",
       "  content: \"▾\";\n",
       "}\n",
       "\n",
       "/* Pipeline/ColumnTransformer-specific style */\n",
       "\n",
       "#sk-container-id-1 div.sk-label input.sk-toggleable__control:checked~label.sk-toggleable__label {\n",
       "  color: var(--sklearn-color-text);\n",
       "  background-color: var(--sklearn-color-unfitted-level-2);\n",
       "}\n",
       "\n",
       "#sk-container-id-1 div.sk-label.fitted input.sk-toggleable__control:checked~label.sk-toggleable__label {\n",
       "  background-color: var(--sklearn-color-fitted-level-2);\n",
       "}\n",
       "\n",
       "/* Estimator-specific style */\n",
       "\n",
       "/* Colorize estimator box */\n",
       "#sk-container-id-1 div.sk-estimator input.sk-toggleable__control:checked~label.sk-toggleable__label {\n",
       "  /* unfitted */\n",
       "  background-color: var(--sklearn-color-unfitted-level-2);\n",
       "}\n",
       "\n",
       "#sk-container-id-1 div.sk-estimator.fitted input.sk-toggleable__control:checked~label.sk-toggleable__label {\n",
       "  /* fitted */\n",
       "  background-color: var(--sklearn-color-fitted-level-2);\n",
       "}\n",
       "\n",
       "#sk-container-id-1 div.sk-label label.sk-toggleable__label,\n",
       "#sk-container-id-1 div.sk-label label {\n",
       "  /* The background is the default theme color */\n",
       "  color: var(--sklearn-color-text-on-default-background);\n",
       "}\n",
       "\n",
       "/* On hover, darken the color of the background */\n",
       "#sk-container-id-1 div.sk-label:hover label.sk-toggleable__label {\n",
       "  color: var(--sklearn-color-text);\n",
       "  background-color: var(--sklearn-color-unfitted-level-2);\n",
       "}\n",
       "\n",
       "/* Label box, darken color on hover, fitted */\n",
       "#sk-container-id-1 div.sk-label.fitted:hover label.sk-toggleable__label.fitted {\n",
       "  color: var(--sklearn-color-text);\n",
       "  background-color: var(--sklearn-color-fitted-level-2);\n",
       "}\n",
       "\n",
       "/* Estimator label */\n",
       "\n",
       "#sk-container-id-1 div.sk-label label {\n",
       "  font-family: monospace;\n",
       "  font-weight: bold;\n",
       "  display: inline-block;\n",
       "  line-height: 1.2em;\n",
       "}\n",
       "\n",
       "#sk-container-id-1 div.sk-label-container {\n",
       "  text-align: center;\n",
       "}\n",
       "\n",
       "/* Estimator-specific */\n",
       "#sk-container-id-1 div.sk-estimator {\n",
       "  font-family: monospace;\n",
       "  border: 1px dotted var(--sklearn-color-border-box);\n",
       "  border-radius: 0.25em;\n",
       "  box-sizing: border-box;\n",
       "  margin-bottom: 0.5em;\n",
       "  /* unfitted */\n",
       "  background-color: var(--sklearn-color-unfitted-level-0);\n",
       "}\n",
       "\n",
       "#sk-container-id-1 div.sk-estimator.fitted {\n",
       "  /* fitted */\n",
       "  background-color: var(--sklearn-color-fitted-level-0);\n",
       "}\n",
       "\n",
       "/* on hover */\n",
       "#sk-container-id-1 div.sk-estimator:hover {\n",
       "  /* unfitted */\n",
       "  background-color: var(--sklearn-color-unfitted-level-2);\n",
       "}\n",
       "\n",
       "#sk-container-id-1 div.sk-estimator.fitted:hover {\n",
       "  /* fitted */\n",
       "  background-color: var(--sklearn-color-fitted-level-2);\n",
       "}\n",
       "\n",
       "/* Specification for estimator info (e.g. \"i\" and \"?\") */\n",
       "\n",
       "/* Common style for \"i\" and \"?\" */\n",
       "\n",
       ".sk-estimator-doc-link,\n",
       "a:link.sk-estimator-doc-link,\n",
       "a:visited.sk-estimator-doc-link {\n",
       "  float: right;\n",
       "  font-size: smaller;\n",
       "  line-height: 1em;\n",
       "  font-family: monospace;\n",
       "  background-color: var(--sklearn-color-background);\n",
       "  border-radius: 1em;\n",
       "  height: 1em;\n",
       "  width: 1em;\n",
       "  text-decoration: none !important;\n",
       "  margin-left: 0.5em;\n",
       "  text-align: center;\n",
       "  /* unfitted */\n",
       "  border: var(--sklearn-color-unfitted-level-1) 1pt solid;\n",
       "  color: var(--sklearn-color-unfitted-level-1);\n",
       "}\n",
       "\n",
       ".sk-estimator-doc-link.fitted,\n",
       "a:link.sk-estimator-doc-link.fitted,\n",
       "a:visited.sk-estimator-doc-link.fitted {\n",
       "  /* fitted */\n",
       "  border: var(--sklearn-color-fitted-level-1) 1pt solid;\n",
       "  color: var(--sklearn-color-fitted-level-1);\n",
       "}\n",
       "\n",
       "/* On hover */\n",
       "div.sk-estimator:hover .sk-estimator-doc-link:hover,\n",
       ".sk-estimator-doc-link:hover,\n",
       "div.sk-label-container:hover .sk-estimator-doc-link:hover,\n",
       ".sk-estimator-doc-link:hover {\n",
       "  /* unfitted */\n",
       "  background-color: var(--sklearn-color-unfitted-level-3);\n",
       "  color: var(--sklearn-color-background);\n",
       "  text-decoration: none;\n",
       "}\n",
       "\n",
       "div.sk-estimator.fitted:hover .sk-estimator-doc-link.fitted:hover,\n",
       ".sk-estimator-doc-link.fitted:hover,\n",
       "div.sk-label-container:hover .sk-estimator-doc-link.fitted:hover,\n",
       ".sk-estimator-doc-link.fitted:hover {\n",
       "  /* fitted */\n",
       "  background-color: var(--sklearn-color-fitted-level-3);\n",
       "  color: var(--sklearn-color-background);\n",
       "  text-decoration: none;\n",
       "}\n",
       "\n",
       "/* Span, style for the box shown on hovering the info icon */\n",
       ".sk-estimator-doc-link span {\n",
       "  display: none;\n",
       "  z-index: 9999;\n",
       "  position: relative;\n",
       "  font-weight: normal;\n",
       "  right: .2ex;\n",
       "  padding: .5ex;\n",
       "  margin: .5ex;\n",
       "  width: min-content;\n",
       "  min-width: 20ex;\n",
       "  max-width: 50ex;\n",
       "  color: var(--sklearn-color-text);\n",
       "  box-shadow: 2pt 2pt 4pt #999;\n",
       "  /* unfitted */\n",
       "  background: var(--sklearn-color-unfitted-level-0);\n",
       "  border: .5pt solid var(--sklearn-color-unfitted-level-3);\n",
       "}\n",
       "\n",
       ".sk-estimator-doc-link.fitted span {\n",
       "  /* fitted */\n",
       "  background: var(--sklearn-color-fitted-level-0);\n",
       "  border: var(--sklearn-color-fitted-level-3);\n",
       "}\n",
       "\n",
       ".sk-estimator-doc-link:hover span {\n",
       "  display: block;\n",
       "}\n",
       "\n",
       "/* \"?\"-specific style due to the `<a>` HTML tag */\n",
       "\n",
       "#sk-container-id-1 a.estimator_doc_link {\n",
       "  float: right;\n",
       "  font-size: 1rem;\n",
       "  line-height: 1em;\n",
       "  font-family: monospace;\n",
       "  background-color: var(--sklearn-color-background);\n",
       "  border-radius: 1rem;\n",
       "  height: 1rem;\n",
       "  width: 1rem;\n",
       "  text-decoration: none;\n",
       "  /* unfitted */\n",
       "  color: var(--sklearn-color-unfitted-level-1);\n",
       "  border: var(--sklearn-color-unfitted-level-1) 1pt solid;\n",
       "}\n",
       "\n",
       "#sk-container-id-1 a.estimator_doc_link.fitted {\n",
       "  /* fitted */\n",
       "  border: var(--sklearn-color-fitted-level-1) 1pt solid;\n",
       "  color: var(--sklearn-color-fitted-level-1);\n",
       "}\n",
       "\n",
       "/* On hover */\n",
       "#sk-container-id-1 a.estimator_doc_link:hover {\n",
       "  /* unfitted */\n",
       "  background-color: var(--sklearn-color-unfitted-level-3);\n",
       "  color: var(--sklearn-color-background);\n",
       "  text-decoration: none;\n",
       "}\n",
       "\n",
       "#sk-container-id-1 a.estimator_doc_link.fitted:hover {\n",
       "  /* fitted */\n",
       "  background-color: var(--sklearn-color-fitted-level-3);\n",
       "}\n",
       "</style><div id=\"sk-container-id-1\" class=\"sk-top-container\"><div class=\"sk-text-repr-fallback\"><pre>MLPClassifier(hidden_layer_sizes=(50, 20), max_iter=1000, random_state=42)</pre><b>In a Jupyter environment, please rerun this cell to show the HTML representation or trust the notebook. <br />On GitHub, the HTML representation is unable to render, please try loading this page with nbviewer.org.</b></div><div class=\"sk-container\" hidden><div class=\"sk-item\"><div class=\"sk-estimator fitted sk-toggleable\"><input class=\"sk-toggleable__control sk-hidden--visually\" id=\"sk-estimator-id-1\" type=\"checkbox\" checked><label for=\"sk-estimator-id-1\" class=\"sk-toggleable__label fitted sk-toggleable__label-arrow\"><div><div>MLPClassifier</div></div><div><a class=\"sk-estimator-doc-link fitted\" rel=\"noreferrer\" target=\"_blank\" href=\"https://scikit-learn.org/1.6/modules/generated/sklearn.neural_network.MLPClassifier.html\">?<span>Documentation for MLPClassifier</span></a><span class=\"sk-estimator-doc-link fitted\">i<span>Fitted</span></span></div></label><div class=\"sk-toggleable__content fitted\"><pre>MLPClassifier(hidden_layer_sizes=(50, 20), max_iter=1000, random_state=42)</pre></div> </div></div></div></div>"
      ],
      "text/plain": [
       "MLPClassifier(hidden_layer_sizes=(50, 20), max_iter=1000, random_state=42)"
      ]
     },
     "execution_count": 17,
     "metadata": {},
     "output_type": "execute_result"
    }
   ],
   "source": [
    "# Section 11: Supervised Models\n",
    "# Here I train models on combined features\n",
    "lr = LogisticRegression(max_iter=1000, random_state=42)\n",
    "lr.fit(X_train_combined, y_train)\n",
    "rf = RandomForestClassifier(random_state=42)\n",
    "rf.fit(X_train_combined, y_train)\n",
    "svm = SVC(probability=True, random_state=42)\n",
    "svm.fit(X_train_combined, y_train)\n",
    "mlp = MLPClassifier(hidden_layer_sizes=(50, 20), max_iter=1000, random_state=42)\n",
    "mlp.fit(X_train_combined, y_train)"
   ]
  },
  {
   "cell_type": "code",
   "execution_count": 18,
   "id": "a3909329-1e71-486b-bd1a-7bb32a7e9f7f",
   "metadata": {},
   "outputs": [
    {
     "name": "stdout",
     "output_type": "stream",
     "text": [
      "LR Accuracy: 0.8262411347517731\n",
      "RF Accuracy: 0.8129432624113475\n",
      "SVM Accuracy: 0.3554964539007092\n",
      "MLP Accuracy: 0.8218085106382979 \n",
      "\n"
     ]
    }
   ],
   "source": [
    "print(\"LR Accuracy:\", accuracy_score(y_test, lr.predict(X_test_combined)))\n",
    "print(\"RF Accuracy:\", accuracy_score(y_test, rf.predict(X_test_combined)))\n",
    "print(\"SVM Accuracy:\", accuracy_score(y_test, svm.predict(X_test_combined)))\n",
    "print(\"MLP Accuracy:\", accuracy_score(y_test, mlp.predict(X_test_combined)), \"\\n\")"
   ]
  },
  {
   "cell_type": "code",
   "execution_count": 19,
   "id": "814c6530-0e12-443d-bfea-e654a1091ee7",
   "metadata": {},
   "outputs": [
    {
     "name": "stdout",
     "output_type": "stream",
     "text": [
      "Voting Accuracy: 0.8226950354609929\n"
     ]
    }
   ],
   "source": [
    "# Section 12: Ensemble Methods\n",
    "# Here I create a VotingClassifier\n",
    "voting_clf = VotingClassifier(estimators=[('lr', lr), ('rf', rf), ('svm', svm)], voting='soft')\n",
    "voting_clf.fit(X_train_combined, y_train)\n",
    "print(\"Voting Accuracy:\", accuracy_score(y_test, voting_clf.predict(X_test_combined)))"
   ]
  },
  {
   "cell_type": "code",
   "execution_count": 20,
   "id": "580b8527-a4cd-4126-8ab6-8ce99b59cec2",
   "metadata": {},
   "outputs": [
    {
     "name": "stdout",
     "output_type": "stream",
     "text": [
      "Bagging Accuracy: 0.824468085106383 \n",
      "\n"
     ]
    }
   ],
   "source": [
    "# Here I apply BaggingClassifier\n",
    "bagging = BaggingClassifier(LogisticRegression(max_iter=1000), n_estimators=10, random_state=42)\n",
    "bagging.fit(X_train_combined, y_train)\n",
    "print(\"Bagging Accuracy:\", accuracy_score(y_test, bagging.predict(X_test_combined)), \"\\n\")"
   ]
  },
  {
   "cell_type": "code",
   "execution_count": 21,
   "id": "78c08c3a-eda7-4068-8380-1fa2960e8e1f",
   "metadata": {},
   "outputs": [
    {
     "name": "stdout",
     "output_type": "stream",
     "text": [
      "=== Clustering with KMeans ===\n",
      "Cluster sample: [0 0 0 0 0] \n",
      "\n"
     ]
    },
    {
     "name": "stderr",
     "output_type": "stream",
     "text": [
      "C:\\Users\\ASUS\\miniconda3\\envs\\myenv\\lib\\site-packages\\sklearn\\cluster\\_kmeans.py:1419: UserWarning: KMeans is known to have a memory leak on Windows with MKL, when there are less chunks than available threads. You can avoid it by setting the environment variable OMP_NUM_THREADS=11.\n",
      "  warnings.warn(\n"
     ]
    }
   ],
   "source": [
    "# Section 13: Clustering\n",
    "print(\"=== Clustering with KMeans ===\")\n",
    "# Here I cluster the combined features\n",
    "kmeans = KMeans(n_clusters=4, random_state=42)\n",
    "kmeans.fit(X_train_combined)\n",
    "print(\"Cluster sample:\", kmeans.labels_[:5], \"\\n\")"
   ]
  },
  {
   "cell_type": "code",
   "execution_count": 22,
   "id": "75506ae9-9e90-4f43-bcdf-9b1c1f3d5e62",
   "metadata": {},
   "outputs": [
    {
     "name": "stdout",
     "output_type": "stream",
     "text": [
      "=== Outlier Detection with IsolationForest ===\n",
      "Outlier sample: [ 1  1  1  1 -1] \n",
      "\n"
     ]
    }
   ],
   "source": [
    "# Section 14: Outlier Detection\n",
    "print(\"=== Outlier Detection with IsolationForest ===\")\n",
    "# Here I detect outliers\n",
    "iso_forest = IsolationForest(contamination=0.1, random_state=42)\n",
    "outliers = iso_forest.fit_predict(X_train_combined)\n",
    "print(\"Outlier sample:\", outliers[:5], \"\\n\")"
   ]
  },
  {
   "cell_type": "code",
   "execution_count": 23,
   "id": "5e3642a3-4d19-4de9-a6a9-3dc5b76a4b3a",
   "metadata": {},
   "outputs": [
    {
     "name": "stdout",
     "output_type": "stream",
     "text": [
      "=== Gaussian Process Regression ===\n",
      "GPR R^2: -0.07315130459809627 \n",
      "\n"
     ]
    }
   ],
   "source": [
    "# Section 15: Gaussian Process Regression (Simulated)\n",
    "print(\"=== Gaussian Process Regression ===\")\n",
    "# Here I predict document length as a regression task\n",
    "gpr = GaussianProcessRegressor(random_state=42)\n",
    "gpr.fit(X_train_svd, X_num_train_scaled.flatten())\n",
    "print(\"GPR R^2:\", gpr.score(X_test_svd, X_num_test_scaled.flatten()), \"\\n\")"
   ]
  },
  {
   "cell_type": "code",
   "execution_count": 24,
   "id": "6c9b967f-9a83-45c3-8071-45aeaae37012",
   "metadata": {},
   "outputs": [
    {
     "name": "stdout",
     "output_type": "stream",
     "text": [
      "=== Model Calibration ===\n",
      "Calibrated SVM Accuracy: 0.4858156028368794 \n",
      "\n"
     ]
    }
   ],
   "source": [
    "# Section 16: Model Calibration\n",
    "print(\"=== Model Calibration ===\")\n",
    "# Here I calibrate the SVM\n",
    "calibrated_svm = CalibratedClassifierCV(svm, cv=5, method='sigmoid')\n",
    "calibrated_svm.fit(X_train_combined, y_train)\n",
    "print(\"Calibrated SVM Accuracy:\", accuracy_score(y_test, calibrated_svm.predict(X_test_combined)), \"\\n\")"
   ]
  },
  {
   "cell_type": "code",
   "execution_count": 25,
   "id": "14b3c3a9-c517-44dd-82da-5e563aa3e01b",
   "metadata": {},
   "outputs": [
    {
     "name": "stdout",
     "output_type": "stream",
     "text": [
      "=== Multi-output Classification ===\n",
      "Multi-output Accuracy (category): 0.8129432624113475 \n",
      "\n"
     ]
    }
   ],
   "source": [
    "# Section 17: Multi-output Classification\n",
    "print(\"=== Multi-output Classification ===\")\n",
    "# Here I train on both category and sentiment\n",
    "y_multi_train = np.column_stack((y_train, y_sent_train))\n",
    "y_multi_test = np.column_stack((y_test, y_sent_test))\n",
    "multi_clf = MultiOutputClassifier(rf, n_jobs=-1)\n",
    "multi_clf.fit(X_train_combined, y_multi_train)\n",
    "multi_pred = multi_clf.predict(X_test_combined)\n",
    "print(\"Multi-output Accuracy (category):\", accuracy_score(y_multi_test[:, 0], multi_pred[:, 0]), \"\\n\")"
   ]
  },
  {
   "cell_type": "code",
   "execution_count": 26,
   "id": "42ad589a-b4eb-4d2c-bdcb-2d873f013643",
   "metadata": {},
   "outputs": [
    {
     "name": "stdout",
     "output_type": "stream",
     "text": [
      "=== Custom Estimator ===\n",
      "Custom Accuracy: 0.23138297872340424 \n",
      "\n"
     ]
    }
   ],
   "source": [
    "# Section 18: Custom Estimator\n",
    "print(\"=== Custom Estimator ===\")\n",
    "# Here I define a custom classifier\n",
    "class SimpleTextClassifier(BaseEstimator, ClassifierMixin):\n",
    "    def __init__(self): self.centroids_ = None\n",
    "    def fit(self, X, y): self.centroids_ = [np.mean(X[y == i], axis=0) for i in range(4)]; return self\n",
    "    def predict(self, X): return np.array([np.argmin([np.linalg.norm(x - c) for c in self.centroids_]) for x in X])\n",
    "custom_clf = SimpleTextClassifier()\n",
    "custom_clf.fit(X_train_combined, y_train)\n",
    "print(\"Custom Accuracy:\", accuracy_score(y_test, custom_clf.predict(X_test_combined)), \"\\n\")"
   ]
  },
  {
   "cell_type": "code",
   "execution_count": 27,
   "id": "6c9de28e-7ca4-4338-a231-b0a455ee92f9",
   "metadata": {},
   "outputs": [
    {
     "name": "stdout",
     "output_type": "stream",
     "text": [
      "=== Time Series Split (Simulated) ===\n",
      "TimeSeriesSplit fold accuracy: 0.7747336377473364\n",
      "TimeSeriesSplit fold accuracy: 0.802130898021309\n",
      "TimeSeriesSplit fold accuracy: 0.8188736681887366\n",
      "\n",
      "\n"
     ]
    }
   ],
   "source": [
    "# Section 19: Time Series Split (Simulated)\n",
    "print(\"=== Time Series Split (Simulated) ===\")\n",
    "# Here I simulate time-ordered data\n",
    "tscv = TimeSeriesSplit(n_splits=3)\n",
    "for train_idx, test_idx in tscv.split(X_train_combined):\n",
    "    X_tr, X_te = X_train_combined[train_idx], X_train_combined[test_idx]\n",
    "    y_tr, y_te = y_train[train_idx], y_train[test_idx]\n",
    "    rf.fit(X_tr, y_tr)\n",
    "    print(\"TimeSeriesSplit fold accuracy:\", accuracy_score(y_te, rf.predict(X_te)))\n",
    "print(\"\\n\")"
   ]
  },
  {
   "cell_type": "code",
   "execution_count": 28,
   "id": "c734e663-e782-45bb-886c-febbd7ffb755",
   "metadata": {},
   "outputs": [
    {
     "name": "stdout",
     "output_type": "stream",
     "text": [
      "LR CV Mean: 0.8209832540890758\n",
      "Best SVM params: {'C': 10, 'kernel': 'linear'} \n",
      "\n"
     ]
    }
   ],
   "source": [
    "# Section 20: Cross-Validation and Tuning\n",
    "# Here I perform cross-validation\n",
    "cv_scores = cross_val_score(lr, X_train_combined, y_train, cv=5)\n",
    "print(\"LR CV Mean:\", cv_scores.mean())\n",
    "# Here I tune SVM\n",
    "param_grid = {'C': [0.1, 1, 10], 'kernel': ['linear', 'rbf']}\n",
    "grid_search = GridSearchCV(SVC(probability=True), param_grid, cv=5)\n",
    "grid_search.fit(X_train_combined, y_train)\n",
    "print(\"Best SVM params:\", grid_search.best_params_, \"\\n\")"
   ]
  },
  {
   "cell_type": "code",
   "execution_count": 29,
   "id": "9769a25f-b04e-442d-acd3-2ce56525bec6",
   "metadata": {},
   "outputs": [
    {
     "name": "stdout",
     "output_type": "stream",
     "text": [
      "Classification Report:\n",
      "                         precision    recall  f1-score   support\n",
      "\n",
      "           alt.atheism       0.77      0.65      0.70       252\n",
      "soc.religion.christian       0.86      0.91      0.89       295\n",
      "         comp.graphics       0.83      0.85      0.84       299\n",
      "               sci.med       0.79      0.83      0.81       282\n",
      "\n",
      "              accuracy                           0.82      1128\n",
      "             macro avg       0.81      0.81      0.81      1128\n",
      "          weighted avg       0.81      0.82      0.81      1128\n",
      "\n"
     ]
    },
    {
     "data": {
      "image/png": "[encoded data removed]",
      "text/plain": [
       "<Figure size 640x480 with 1 Axes>"
      ]
     },
     "metadata": {},
     "output_type": "display_data"
    }
   ],
   "source": [
    "# Section 21: Evaluation Metrics\n",
    "# Here I evaluate Random Forest\n",
    "rf_pred = rf.predict(X_test_combined)\n",
    "print(\"Classification Report:\\n\", classification_report(y_test, rf_pred, target_names=categories))\n",
    "y_prob = svm.predict_proba(X_test_combined)[:, 3]\n",
    "fpr, tpr, _ = roc_curve(y_test, y_prob, pos_label=3)\n",
    "plt.figure()\n",
    "plt.plot(fpr, tpr, label=f'ROC (AUC = {auc(fpr, tpr):.2f})')\n",
    "plt.title('ROC Curve (sci.med)')\n",
    "plt.legend()\n",
    "plt.show()"
   ]
  },
  {
   "cell_type": "code",
   "execution_count": 30,
   "id": "dd39d850-7356-45f6-a7ee-0a5d0215ba72",
   "metadata": {},
   "outputs": [
    {
     "data": {
      "image/png": "[encoded data removed]",
      "text/plain": [
       "<Figure size 640x480 with 1 Axes>"
      ]
     },
     "metadata": {},
     "output_type": "display_data"
    }
   ],
   "source": [
    "# Section 22: Learning and Validation Curves\n",
    "# Here I plot learning curve\n",
    "train_sizes, train_scores, test_scores = learning_curve(rf, X_train_combined, y_train, cv=5, train_sizes=np.linspace(0.1, 1.0, 10))\n",
    "plt.figure()\n",
    "plt.plot(train_sizes, train_scores.mean(axis=1), label='Training')\n",
    "plt.plot(train_sizes, test_scores.mean(axis=1), label='CV')\n",
    "plt.title('Learning Curve')\n",
    "plt.legend()\n",
    "plt.show()"
   ]
  },
  {
   "cell_type": "code",
   "execution_count": 31,
   "id": "4cb2545c-99ef-400f-973e-ee125646e508",
   "metadata": {},
   "outputs": [
    {
     "data": {
      "image/png": "[encoded data removed]",
      "text/plain": [
       "<Figure size 640x480 with 1 Axes>"
      ]
     },
     "metadata": {},
     "output_type": "display_data"
    }
   ],
   "source": [
    "# Here I plot validation curve\n",
    "param_range = [10, 50, 100]\n",
    "train_scores, test_scores = validation_curve(rf, X_train_combined, y_train, param_name=\"n_estimators\", param_range=param_range, cv=5)\n",
    "plt.figure()\n",
    "plt.plot(param_range, train_scores.mean(axis=1), label='Training')\n",
    "plt.plot(param_range, test_scores.mean(axis=1), label='CV')\n",
    "plt.title('Validation Curve')\n",
    "plt.legend()\n",
    "plt.show()"
   ]
  },
  {
   "cell_type": "code",
   "execution_count": 33,
   "id": "3e1acac9-fef7-473d-a324-cc36a39a786b",
   "metadata": {},
   "outputs": [
    {
     "name": "stdout",
     "output_type": "stream",
     "text": [
      "=== Partial Dependence Plots ===\n"
     ]
    },
    {
     "data": {
      "image/png": "[encoded data removed]",
      "text/plain": [
       "<Figure size 640x480 with 3 Axes>"
      ]
     },
     "metadata": {},
     "output_type": "display_data"
    }
   ],
   "source": [
    "# Section 23: Partial Dependence (on SVD features)\n",
    "print(\"=== Partial Dependence Plots ===\")\n",
    "# Here I plot partial dependence for first two SVD components, specifying target class 1\n",
    "fig, ax = plt.subplots()\n",
    "PartialDependenceDisplay.from_estimator(rf, X_train_combined, features=[0, 1], target=1, ax=ax)\n",
    "plt.show()"
   ]
  },
  {
   "cell_type": "code",
   "execution_count": 34,
   "id": "5f845e96-3b2e-42b0-8152-cac7a31727ba",
   "metadata": {},
   "outputs": [
    {
     "name": "stdout",
     "output_type": "stream",
     "text": [
      "=== Model Persistence ===\n",
      "Loaded RF Accuracy: 0.8164893617021277 \n",
      "\n"
     ]
    }
   ],
   "source": [
    "# Section 24: Model Persistence\n",
    "print(\"=== Model Persistence ===\")\n",
    "# Here I save and load the pipeline\n",
    "joblib.dump(rf, 'rf_nlp_model.pkl')\n",
    "loaded_rf = joblib.load('rf_nlp_model.pkl')\n",
    "print(\"Loaded RF Accuracy:\", accuracy_score(y_test, loaded_rf.predict(X_test_combined)), \"\\n\")"
   ]
  },
  {
   "cell_type": "code",
   "execution_count": 35,
   "id": "2f23bbda-2868-44be-9c9c-f15df5b4cee1",
   "metadata": {},
   "outputs": [
    {
     "name": "stdout",
     "output_type": "stream",
     "text": [
      "=== Pipeline ===\n",
      "Pipeline Accuracy: 0.8200354609929078 \n",
      "\n"
     ]
    }
   ],
   "source": [
    "# Section 25: Pipeline\n",
    "print(\"=== Pipeline ===\")\n",
    "# Here I create a full pipeline\n",
    "pipeline = Pipeline([\n",
    "    ('tfidf', TfidfVectorizer(max_features=5000, stop_words='english')),\n",
    "    ('svd', TruncatedSVD(n_components=50)),\n",
    "    ('clf', RandomForestClassifier(random_state=42))\n",
    "])\n",
    "pipeline.fit(X_train, y_train)\n",
    "print(\"Pipeline Accuracy:\", accuracy_score(y_test, pipeline.predict(X_test)), \"\\n\")"
   ]
  },
  {
   "cell_type": "code",
   "execution_count": 36,
   "id": "3791ab90-5f3d-42fb-8ef3-b14e9ac3e3a9",
   "metadata": {},
   "outputs": [
    {
     "name": "stdout",
     "output_type": "stream",
     "text": [
      "New text: ['God bless the graphics community!']\n",
      "Predicted category: sci.med\n"
     ]
    }
   ],
   "source": [
    "# Section 26: Prediction\n",
    "# Here I predict a new text sample\n",
    "new_text = [\"God bless the graphics community!\"]\n",
    "print(\"New text:\", new_text)\n",
    "print(\"Predicted category:\", categories[pipeline.predict(new_text)[0]])"
   ]
  },
  {
   "cell_type": "code",
   "execution_count": null,
   "id": "940e1ea4-acd7-49de-8301-0273652e77c9",
   "metadata": {},
   "outputs": [],
   "source": []
  }
 ],
 "metadata": {
  "kernelspec": {
   "display_name": "Python 3 (ipykernel)",
   "language": "python",
   "name": "python3"
  },
  "language_info": {
   "codemirror_mode": {
    "name": "ipython",
    "version": 3
   },
   "file_extension": ".py",
   "mimetype": "text/x-python",
   "name": "python",
   "nbconvert_exporter": "python",
   "pygments_lexer": "ipython3",
   "version": "3.10.16"
  }
 },
 "nbformat": 4,
 "nbformat_minor": 5
}
